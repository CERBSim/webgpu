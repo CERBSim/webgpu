{
 "cells": [
  {
   "cell_type": "code",
   "execution_count": null,
   "id": "b9f67305-3c9c-4b7d-bf86-80630a649b41",
   "metadata": {},
   "outputs": [],
   "source": [
    "# Simple example that uses prepared draw function\n",
    "import webgpu.jupyter\n",
    "from ngsolve import *\n",
    "\n",
    "m = Mesh(unit_square.GenerateMesh(maxh=0.1))\n",
    "\n",
    "webgpu.jupyter.Draw(x, m)"
   ]
  },
  {
   "cell_type": "code",
   "execution_count": null,
   "id": "ebd100f7-36eb-4178-869a-5fade1604ce9",
   "metadata": {},
   "outputs": [],
   "source": [
    "\n",
    "import webgpu.jupyter\n",
    "#from webgpu.mesh import MeshData\n",
    "from ngsolve import *\n",
    "\n",
    "def render(data):\n",
    "    import ngsolve_webgpu.mesh\n",
    "    import pyodide.ffi\n",
    "    import webgpu\n",
    "    from webgpu.jupyter import gpu\n",
    "    print(\"render data\", data)\n",
    "    import ngsolve as ngs\n",
    "    import js\n",
    "\n",
    "    mesh = data[\"mesh\"]\n",
    "    cf = data[\"cf\"]\n",
    "    order = data.get(\"order\", 1)\n",
    "\n",
    "    mesh_data = ngsolve_webgpu.mesh.MeshData(mesh, cf, order)\n",
    "    mesh_object = ngsolve_webgpu.mesh.MeshRenderObject(gpu, mesh_data)\n",
    "    gpu.u_function.min = 0\n",
    "    gpu.u_function.max = 1.0\n",
    "    def render_function(t):\n",
    "        gpu.update_uniforms()\n",
    "        # gpu.uniforms.update_buffer()\n",
    "\n",
    "        encoder = gpu.device.createCommandEncoder()\n",
    "        mesh_object.render(encoder)\n",
    "        gpu.device.queue.submit([encoder.finish()])\n",
    "\n",
    "    render_function = pyodide.ffi.create_proxy(render_function)\n",
    "    gpu.input_handler.render_function = render_function\n",
    "    js.requestAnimationFrame(render_function)\n",
    "\n",
    "m = Mesh(unit_square.GenerateMesh(maxh=.1))\n",
    "cf=sin(10*x)*sin(10*y)\n",
    "\n",
    "# \"data\" will be passed as argument to render on the pyodide side\n",
    "webgpu.jupyter.DrawCustom({\"cf\": cf, \"mesh\": m, \"order\": 5}, render, [\"ngsolve_webgpu\"])"
   ]
  },
  {
   "cell_type": "code",
   "execution_count": null,
   "id": "dfd6c1d0-b0cd-48ce-8581-73151d50a8e9",
   "metadata": {},
   "outputs": [],
   "source": []
  },
  {
   "cell_type": "code",
   "execution_count": null,
   "id": "92a2c610-652b-4cfa-b933-a7ab361f206a",
   "metadata": {},
   "outputs": [],
   "source": []
  }
 ],
 "metadata": {
  "kernelspec": {
   "display_name": "Python 3 (ipykernel)",
   "language": "python",
   "name": "python3"
  },
  "language_info": {
   "codemirror_mode": {
    "name": "ipython",
    "version": 3
   },
   "file_extension": ".py",
   "mimetype": "text/x-python",
   "name": "python",
   "nbconvert_exporter": "python",
   "pygments_lexer": "ipython3",
   "version": "3.13.1"
  }
 },
 "nbformat": 4,
 "nbformat_minor": 5
}
