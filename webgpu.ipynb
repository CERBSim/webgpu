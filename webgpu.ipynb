{
 "cells": [
  {
   "cell_type": "code",
   "execution_count": null,
   "id": "b9f67305-3c9c-4b7d-bf86-80630a649b41",
   "metadata": {},
   "outputs": [],
   "source": [
    "# Simple example that uses prepared draw function\n",
    "import webgpu.jupyter\n",
    "from ngsolve import *\n",
    "\n",
    "m = Mesh(unit_square.GenerateMesh(maxh=0.5))\n",
    "\n",
    "webgpu.jupyter.Draw(x, m)"
   ]
  },
  {
   "cell_type": "code",
   "execution_count": null,
   "id": "eeba5c9a-b41b-4c10-8cca-467f8de8be31",
   "metadata": {},
   "outputs": [],
   "source": [
    "# more verbose example with custom render function implementation\n",
    "\n",
    "import webgpu.jupyter\n",
    "from webgpu.mesh import MeshData\n",
    "from ngsolve import *\n",
    "\n",
    "def render(data):\n",
    "    \"\"\"This is the setup function running in pyodide (with access to the html dom and JS)\"\"\"\n",
    "    print(\"hello from pyodide\")\n",
    "    import pyodide.ffi\n",
    "    import ngsolve as ngs\n",
    "    from webgpu.jupyter import gpu\n",
    "    from webgpu.mesh import MeshData, MeshRenderObject\n",
    "\n",
    "    mesh_data = MeshData()\n",
    "    mesh_data.load(data)\n",
    "    \n",
    "    mesh_object = MeshRenderObject(gpu, mesh_data)\n",
    "\n",
    "    frame_counter = 0\n",
    "    import time\n",
    "    t0 = time.time()\n",
    "    def render_function(t):\n",
    "        \"\"\"This function is called for each frame\"\"\"\n",
    "        nonlocal frame_counter\n",
    "\n",
    "        # change colormap for some animation\n",
    "        gpu.uniforms.colormap.min = 0.3 + 0.3*ngs.sin(4*(time.time()-t0))\n",
    "        gpu.uniforms.colormap.max = 1.0 - gpu.uniforms.colormap.min\n",
    "        gpu.uniforms.update_buffer()\n",
    "\n",
    "        # render mesh_object\n",
    "        encoder = gpu.create_command_encoder()\n",
    "        mesh_object.render(encoder)\n",
    "        gpu.device.queue.submit([encoder.finish()])\n",
    "\n",
    "        # request next frame (for animation, not necessary otherwise)\n",
    "        # stop after 200 frames to avoid endless loop\n",
    "        frame_counter += 1\n",
    "        if frame_counter < 200:\n",
    "            print(\"request frame\")\n",
    "            js.requestAnimationFrame(gpu.input_handler.render_function)\n",
    "\n",
    "    # we need to create a proxy object to pass a python function as JS callback\n",
    "    render_function = pyodide.ffi.create_proxy(render_function)\n",
    "\n",
    "    # set callback to trigger a new frame on click/mouse move etc.\n",
    "    gpu.input_handler.render_function = render_function\n",
    "\n",
    "    # request first frame\n",
    "    js.requestAnimationFrame(render_function)\n",
    "\n",
    "m = Mesh(unit_square.GenerateMesh(maxh=.1))\n",
    "data = MeshData(m, cf=sin(10*x)*sin(10*y), order=5)\n",
    "\n",
    "# \"data\" will be passed as argument to render on the pyodide side\n",
    "webgpu.jupyter.DrawCustom(data.dump(), render)"
   ]
  },
  {
   "cell_type": "code",
   "execution_count": null,
   "id": "ebd100f7-36eb-4178-869a-5fade1604ce9",
   "metadata": {},
   "outputs": [],
   "source": []
  }
 ],
 "metadata": {
  "kernelspec": {
   "display_name": "Python 3 (ipykernel)",
   "language": "python",
   "name": "python3"
  },
  "language_info": {
   "codemirror_mode": {
    "name": "ipython",
    "version": 3
   },
   "file_extension": ".py",
   "mimetype": "text/x-python",
   "name": "python",
   "nbconvert_exporter": "python",
   "pygments_lexer": "ipython3",
   "version": "3.12.7"
  }
 },
 "nbformat": 4,
 "nbformat_minor": 5
}
