{
 "cells": [
  {
   "cell_type": "code",
   "execution_count": 2,
   "id": "d5dc2138-5c55-4828-964f-50e94cd3419f",
   "metadata": {},
   "outputs": [
    {
     "data": {
      "application/javascript": [
       "\n",
       "var canvas = document.createElement('canvas');\n",
       "canvas.width = 400;\n",
       "canvas.height = 400;\n",
       "canvas.id =\"canvas\";\n",
       "element.appendChild(canvas);\n",
       "\n",
       "async function main() {\n",
       "  const pyodide_module = await import(\"../../files/pyodide/pyodide.mjs\");\n",
       "  let pyodide = await pyodide_module.loadPyodide();\n",
       "  pyodide.setDebug(true);\n",
       "  await pyodide.loadPackage(['netgen']);\n",
       "  const python_code = await (\n",
       "    await fetch(\"../../files/webgpu.py\", { method: \"GET\", cache: \"no-cache\" })\n",
       "  ).text();\n",
       "  const main_function = pyodide.runPython(python_code);\n",
       "  await main_function(canvas, \"../../files/shader.wgsl\")\n",
       "}\n",
       "main();\n"
      ],
      "text/plain": [
       "<IPython.core.display.Javascript object>"
      ]
     },
     "metadata": {},
     "output_type": "display_data"
    }
   ],
   "source": [
    "%%js\n",
    "\n",
    "var canvas = document.createElement('canvas');\n",
    "canvas.width = 400;\n",
    "canvas.height = 400;\n",
    "canvas.id =\"canvas\";\n",
    "element.appendChild(canvas);\n",
    "\n",
    "async function main() {\n",
    "  const pyodide_module = await import(\"../../files/pyodide/pyodide.mjs\");\n",
    "  let pyodide = await pyodide_module.loadPyodide();\n",
    "  pyodide.setDebug(true);\n",
    "  await pyodide.loadPackage(['netgen']);\n",
    "  const python_code = await (\n",
    "    await fetch(\"../../files/webgpu.py\", { method: \"GET\", cache: \"no-cache\" })\n",
    "  ).text();\n",
    "  const main_function = pyodide.runPython(python_code);\n",
    "  await main_function(canvas, \"../../files/shader.wgsl\")\n",
    "}\n",
    "main();"
   ]
  },
  {
   "cell_type": "code",
   "execution_count": null,
   "id": "e417a043-ed88-4324-b2e4-91634a12208a",
   "metadata": {},
   "outputs": [],
   "source": []
  },
  {
   "cell_type": "code",
   "execution_count": null,
   "id": "48da0c45-2603-40e7-8114-830703e69d61",
   "metadata": {},
   "outputs": [],
   "source": []
  }
 ],
 "metadata": {
  "kernelspec": {
   "display_name": "Python 3 (ipykernel)",
   "language": "python",
   "name": "python3"
  },
  "language_info": {
   "codemirror_mode": {
    "name": "ipython",
    "version": 3
   },
   "file_extension": ".py",
   "mimetype": "text/x-python",
   "name": "python",
   "nbconvert_exporter": "python",
   "pygments_lexer": "ipython3",
   "version": "3.12.7"
  }
 },
 "nbformat": 4,
 "nbformat_minor": 5
}
