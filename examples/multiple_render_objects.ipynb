{
 "cells": [
  {
   "cell_type": "code",
   "execution_count": null,
   "id": "4e246bf9-56b5-4723-85d9-530025f9b073",
   "metadata": {},
   "outputs": [],
   "source": [
    "import webgpu.jupyter as wj"
   ]
  },
  {
   "cell_type": "markdown",
   "id": "15ca26a3-1ec7-4e2d-a0db-ba4e5524ae2b",
   "metadata": {},
   "source": [
    "Lets modify our hello world example a bit and add a camera to rotate the scene"
   ]
  },
  {
   "cell_type": "code",
   "execution_count": null,
   "id": "b3666abd-0266-462f-958a-f411416a57f1",
   "metadata": {},
   "outputs": [],
   "source": [
    "from webgpu.render_object import RenderObject\n",
    "shader_code = \"\"\"\n",
    "// Data structure which is the output of the vertex shader and the input of the fragment shader\n",
    "struct FragmentInput {\n",
    "    @builtin(position) p: vec4<f32>,\n",
    "    @location(0) color: vec4<f32>,\n",
    "};\n",
    "\n",
    "// Vertex shader, returns a FragmentInput object\n",
    "@vertex\n",
    "fn vertex_main(\n",
    "  @builtin(vertex_index) vertex_index : u32\n",
    ") -> FragmentInput {\n",
    "\n",
    "  var pos = array<vec3f, 3>(\n",
    "    vec3f(0., 0., 0.),\n",
    "    vec3f(1., 1., 0.),\n",
    "    vec3f(0., 1., 1.)\n",
    "  );\n",
    "\n",
    "  var color = array<vec4f, 3>(\n",
    "    vec4f(1., 0., 0., 1.),\n",
    "    vec4f(0., 1., 0., 1.),\n",
    "    vec4f(0., 0., 1., 1.)\n",
    "  );\n",
    "  return FragmentInput( cameraMapPoint(pos[vertex_index]), color[vertex_index] );\n",
    "}\n",
    "\n",
    "@fragment\n",
    "fn fragment_main(input: FragmentInput) -> @location(0) vec4f {\n",
    "  return input.color;\n",
    "}\n",
    "\"\"\"\n",
    "\n",
    "class Triangle(RenderObject):\n",
    "    def __init__(self, *args, **kwargs):\n",
    "        super().__init__(*args, **kwargs)\n",
    "        self.shader_code = shader_code\n",
    "        self.n_vertices = 3\n",
    "\n",
    "    def get_shader_code(self):\n",
    "        return shader_code + self.options.camera.get_shader_code()\n",
    "\n",
    "    def get_bindings(self):\n",
    "        return self.options.camera.get_bindings()\n"
   ]
  },
  {
   "cell_type": "code",
   "execution_count": null,
   "id": "01d25af1-574e-4211-979a-d0d7b47a4821",
   "metadata": {},
   "outputs": [],
   "source": [
    "from webgpu.vectors import VectorRenderer\n",
    "\n",
    "points = [(0, 0, 0), (1, 1, 0), (0, 1, 1)]\n",
    "vectors = [(-2, 0, 0), (1, 1, 1), (0, 0, 0.1)]\n",
    "triangle = Triangle()\n",
    "vector_renderer = VectorRenderer(points, vectors, size=0.05)\n",
    "wj.Draw([triangle, vector_renderer])"
   ]
  },
  {
   "cell_type": "code",
   "execution_count": null,
   "id": "1b52386c-c989-447e-92a4-f22b232460e7",
   "metadata": {},
   "outputs": [],
   "source": []
  },
  {
   "cell_type": "code",
   "execution_count": null,
   "id": "b78aaf26-777c-4614-9021-9af70419c41b",
   "metadata": {},
   "outputs": [],
   "source": []
  }
 ],
 "metadata": {
  "kernelspec": {
   "display_name": "Python 3 (ipykernel)",
   "language": "python",
   "name": "python3"
  },
  "language_info": {
   "codemirror_mode": {
    "name": "ipython",
    "version": 3
   },
   "file_extension": ".py",
   "mimetype": "text/x-python",
   "name": "python",
   "nbconvert_exporter": "python",
   "pygments_lexer": "ipython3",
   "version": "3.13.2"
  }
 },
 "nbformat": 4,
 "nbformat_minor": 5
}
