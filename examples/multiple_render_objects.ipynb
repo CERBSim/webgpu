{
 "cells": [
  {
   "cell_type": "code",
   "execution_count": null,
   "id": "70809b71-33b2-4d48-be54-f08094bdaaaf",
   "metadata": {},
   "outputs": [],
   "source": [
    "import webgpu.jupyter as wj\n",
    "\n",
    "# This setup function is sent to pyodide and run there, so it cannot access global variables or imports.\n",
    "# setup will be called in pyodide with the gpu object and the kwargs given to DrawCustom\n",
    "def _setup(gpu, points):\n",
    "    from demo_triangle import Triangle\n",
    "    from webgpu.draw import Draw\n",
    "    \n",
    "    triangle = Triangle(gpu)\n",
    "    # point_cloud = PointCloud(gpu, points)\n",
    "    Draw([triangle]) #, point_cloud])\n",
    "\n",
    "def MyDraw(points):\n",
    "    # DrawCustom sends _setup and kwargs to pyodide and calls it there. \n",
    "    # It also sends additional files into the pyodide environment.\n",
    "    wj.DrawCustom(_setup, kwargs={ \"points\" : points }, \n",
    "                  files=[\"./demo_triangle.py\"], #, \"./point_cloud/point_cloud.py\", \"./point_cloud/point_cloud.wgsl\"],\n",
    "                 height=500, width = 800)"
   ]
  },
  {
   "cell_type": "code",
   "execution_count": null,
   "id": "1b52386c-c989-447e-92a4-f22b232460e7",
   "metadata": {},
   "outputs": [],
   "source": [
    "points = [(0,0,0), (1,0,0), (1,1,1)]\n",
    "MyDraw(points)"
   ]
  },
  {
   "cell_type": "code",
   "execution_count": null,
   "id": "b78aaf26-777c-4614-9021-9af70419c41b",
   "metadata": {},
   "outputs": [],
   "source": []
  }
 ],
 "metadata": {
  "kernelspec": {
   "display_name": "Python 3 (ipykernel)",
   "language": "python",
   "name": "python3"
  },
  "language_info": {
   "codemirror_mode": {
    "name": "ipython",
    "version": 3
   },
   "file_extension": ".py",
   "mimetype": "text/x-python",
   "name": "python",
   "nbconvert_exporter": "python",
   "pygments_lexer": "ipython3",
   "version": "3.13.1"
  }
 },
 "nbformat": 4,
 "nbformat_minor": 5
}
