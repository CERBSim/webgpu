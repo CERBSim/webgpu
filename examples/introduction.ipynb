{
 "cells": [
  {
   "cell_type": "markdown",
   "id": "e6b7c828-b785-47d0-8c2e-f83993104ccb",
   "metadata": {},
   "source": [
    "# Introduction"
   ]
  },
  {
   "cell_type": "markdown",
   "id": "ffae860e-1a93-4014-baaa-da1db2875a25",
   "metadata": {},
   "source": [
    "The webgpu package utilizes two versions of python: One running some \"real\" Python for computations. And a second instance of Python using pyodide within the browser.\n",
    "\n",
    "If you run notebooks the \"real\" Python is the one running in the ipykernel, which is most likely a Python process on your PC, but can also be a jupyterlite instance or a Python running on some server.\n",
    "\n",
    "Importing webgpu.jupyter starts this additional python instance in the browser. You can open the developer console (usually F12 and then to \"Console\" in the top menu) to see the print outputs from pyodide."
   ]
  },
  {
   "cell_type": "code",
   "execution_count": null,
   "id": "4b3ffab0-0726-4c26-a9eb-f73052288cf2",
   "metadata": {},
   "outputs": [],
   "source": [
    "import webgpu.jupyter as wj"
   ]
  },
  {
   "cell_type": "markdown",
   "id": "307a2776-5aef-4850-bb72-ae597aa08fdf",
   "metadata": {},
   "source": [
    "When we want to execute code on the Pyodide side we have magic for this (you see the output in the developer console). This cell might need a few seconds to execute until the pyodide kernel is started up."
   ]
  },
  {
   "cell_type": "code",
   "execution_count": null,
   "id": "7e8d339a-ac39-46d2-ae40-375db84ebf08",
   "metadata": {},
   "outputs": [],
   "source": [
    "%%pyodide\n",
    "print(\"Hi from Pyodide!\")"
   ]
  },
  {
   "cell_type": "markdown",
   "id": "3c359011-ccb1-4c56-84c9-b1928dd699c6",
   "metadata": {},
   "source": [
    "Sometimes we want to execute code in Pyodide and in the kernel, for this we also provide some magic:"
   ]
  },
  {
   "cell_type": "code",
   "execution_count": null,
   "id": "1360f9ad-3917-4c33-b96f-b427d884599a",
   "metadata": {},
   "outputs": [],
   "source": [
    "%%pyodide_and_kernel\n",
    "print(\"Hi from both!\")"
   ]
  },
  {
   "cell_type": "markdown",
   "id": "2c3b5171-6e57-43a7-9bde-35604ffd4c50",
   "metadata": {},
   "source": [
    "We can create renderer objects in the kernel and Draw them with webgpu.jupyter.Draw command. The Draw command creates a jupyter canvas, pickles the given objects and sends them and the canvas_id to the pyodide python which has access to the gpu to draw using our webgpu bindings."
   ]
  },
  {
   "cell_type": "code",
   "execution_count": null,
   "id": "08323945-5adf-45b7-b4f7-ed556ad5efcc",
   "metadata": {},
   "outputs": [],
   "source": [
    "from webgpu.triangles import TriangulationRenderer\n",
    "points = [(0,0,0), (1,0,0), (0,1,0),\n",
    "          (1,0,0), (1,1,1), (0,1,0)]\n",
    "trigs = TriangulationRenderer(points)\n",
    "wj.Draw(trigs)"
   ]
  },
  {
   "cell_type": "markdown",
   "id": "c1295f6f-4965-4282-adb5-4317ce20d206",
   "metadata": {},
   "source": [
    "You can draw multiple objects into one scene:"
   ]
  },
  {
   "cell_type": "code",
   "execution_count": null,
   "id": "97368c02-9995-4731-9b68-86d2331b1097",
   "metadata": {},
   "outputs": [],
   "source": [
    "from webgpu.vectors import VectorRenderer\n",
    "p = points[:3]\n",
    "v = points[3:]\n",
    "vrender = VectorRenderer(points=p, vectors=v, size=0.2)\n",
    "wj.Draw([trigs, vrender])"
   ]
  }
 ],
 "metadata": {
  "kernelspec": {
   "display_name": "Python 3 (ipykernel)",
   "language": "python",
   "name": "python3"
  },
  "language_info": {
   "codemirror_mode": {
    "name": "ipython",
    "version": 3
   },
   "file_extension": ".py",
   "mimetype": "text/x-python",
   "name": "python",
   "nbconvert_exporter": "python",
   "pygments_lexer": "ipython3",
   "version": "3.13.1"
  }
 },
 "nbformat": 4,
 "nbformat_minor": 5
}
