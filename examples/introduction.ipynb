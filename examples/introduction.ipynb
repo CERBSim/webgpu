{
 "cells": [
  {
   "cell_type": "markdown",
   "id": "e6b7c828-b785-47d0-8c2e-f83993104ccb",
   "metadata": {},
   "source": [
    "# Introduction"
   ]
  },
  {
   "cell_type": "markdown",
   "id": "ffae860e-1a93-4014-baaa-da1db2875a25",
   "metadata": {},
   "source": [
    "The webgpu package utilizes two versions of python: One running some \"real\" Python for computations. And a second instance of Python using pyodide within the browser.\n",
    "\n",
    "If you run notebooks the \"real\" Python is the one running in the ipykernel, which is most likely a Python process on your PC, but can also be a jupyterlite instance or a Python running on some server.\n",
    "\n",
    "Importing webgpu.jupyter starts this additional python instance in the browser. You can open the developer console (usually F12 and then to \"Console\" in the top menu) to see the print outputs from pyodide."
   ]
  },
  {
   "cell_type": "code",
   "execution_count": null,
   "id": "4b3ffab0-0726-4c26-a9eb-f73052288cf2",
   "metadata": {},
   "outputs": [],
   "source": [
    "import webgpu.jupyter as wj"
   ]
  },
  {
   "cell_type": "markdown",
   "id": "307a2776-5aef-4850-bb72-ae597aa08fdf",
   "metadata": {},
   "source": [
    "## Pyodide\n",
    "\n",
    "When we want to execute code on the Pyodide side we have magic for this (you see the output in the developer console). This cell might need a few seconds to execute until the pyodide kernel is started up."
   ]
  },
  {
   "cell_type": "code",
   "execution_count": null,
   "id": "7e8d339a-ac39-46d2-ae40-375db84ebf08",
   "metadata": {},
   "outputs": [],
   "source": [
    "%%pyodide\n",
    "print(\"Hi from Pyodide!\")"
   ]
  },
  {
   "cell_type": "markdown",
   "id": "3c359011-ccb1-4c56-84c9-b1928dd699c6",
   "metadata": {},
   "source": [
    "Sometimes we want to execute code in Pyodide and in the kernel, for this we also provide some magic:"
   ]
  },
  {
   "cell_type": "code",
   "execution_count": null,
   "id": "1360f9ad-3917-4c33-b96f-b427d884599a",
   "metadata": {},
   "outputs": [],
   "source": [
    "%%pyodide_and_kernel\n",
    "print(\"Hi from both!\")"
   ]
  },
  {
   "cell_type": "markdown",
   "id": "542363f3-05f1-4b4b-b3a2-e713a3afbfb5",
   "metadata": {},
   "source": [
    "We can send objects to pyodide (deep copy via pickle):"
   ]
  },
  {
   "cell_type": "code",
   "execution_count": null,
   "id": "346cc2f6-e570-4370-a2e3-ec8d0f8c0657",
   "metadata": {},
   "outputs": [],
   "source": [
    "wj.pyodide.my_list = [1, 2, 3, 4]"
   ]
  },
  {
   "cell_type": "code",
   "execution_count": null,
   "id": "bd6b582c-9dec-42e8-acae-99d7c8472e26",
   "metadata": {},
   "outputs": [],
   "source": [
    "%%pyodide\n",
    "print(my_list)"
   ]
  },
  {
   "cell_type": "markdown",
   "id": "26b4c739-410c-47bc-b1af-5fa391047481",
   "metadata": {},
   "source": [
    "Not all packages are default available in pyodide:"
   ]
  },
  {
   "cell_type": "code",
   "execution_count": null,
   "id": "41f0d14e-9fa3-4d35-b3c6-fa346522c466",
   "metadata": {},
   "outputs": [],
   "source": [
    "%%pyodide\n",
    "import scipy"
   ]
  },
  {
   "cell_type": "markdown",
   "id": "9671c911-1870-44b7-aa1e-72f56eaaaeff",
   "metadata": {},
   "source": [
    "Packages from the pyodide repository (https://pyodide.org/en/stable/usage/packages-in-pyodide.html) or pure python packages from pip can be installed using micropip:"
   ]
  },
  {
   "cell_type": "code",
   "execution_count": null,
   "id": "d7c0f426-a28e-4833-b0fd-79d9110dba2d",
   "metadata": {},
   "outputs": [],
   "source": [
    "%%pyodide\n",
    "# pyodide wasm compiled scipy\n",
    "import micropip\n",
    "await micropip.install(\"scipy\")\n",
    "import scipy\n",
    "print(scipy)\n",
    "# pure python package from pip\n",
    "await micropip.install(\"emoji\")\n",
    "import emoji\n",
    "print(emoji.emojize(\":thumbs_up:\"))"
   ]
  },
  {
   "cell_type": "markdown",
   "id": "2c3b5171-6e57-43a7-9bde-35604ffd4c50",
   "metadata": {},
   "source": [
    "## Render Objects\n",
    "\n",
    "And create renderer objects in the kernel and Draw them with webgpu.jupyter.Draw command. The Draw command creates a jupyter canvas, pickles the given objects and sends them and the canvas_id to the pyodide python which has access to the gpu to draw using our webgpu bindings."
   ]
  },
  {
   "cell_type": "code",
   "execution_count": null,
   "id": "08323945-5adf-45b7-b4f7-ed556ad5efcc",
   "metadata": {},
   "outputs": [],
   "source": [
    "from webgpu.triangles import TriangulationRenderer\n",
    "\n",
    "points = [(0, 0, 0), (1, 0, 0), (0, 1, 0), (1, 0, 0), (1, 1, 1), (0, 1, 0)]\n",
    "trigs = TriangulationRenderer(points, color=(1, 1, 0, 1))\n",
    "wj.Draw(trigs)"
   ]
  },
  {
   "cell_type": "markdown",
   "id": "c1295f6f-4965-4282-adb5-4317ce20d206",
   "metadata": {},
   "source": [
    "You can draw multiple objects into one scene:"
   ]
  },
  {
   "cell_type": "code",
   "execution_count": null,
   "id": "97368c02-9995-4731-9b68-86d2331b1097",
   "metadata": {},
   "outputs": [],
   "source": [
    "from webgpu.vectors import VectorRenderer\n",
    "\n",
    "p = points[:3]\n",
    "v = points[3:]\n",
    "vrender = VectorRenderer(points=p, vectors=v, size=0.2)\n",
    "wj.Draw([trigs, vrender])"
   ]
  },
  {
   "cell_type": "markdown",
   "id": "44cd2348-0d10-472f-bbeb-cfdd1a73a8de",
   "metadata": {},
   "source": [
    "## Controls\n",
    "\n",
    "Adding options to the control sections of a scene can be done by the `scene.gui` object.\n",
    "\n",
    "Note that the function that is given must be a standalone function. `RenderObjects` can be passed as objects (either one or a list of RenderObjects). Since we must change the pyodide side version of the object. Internally we handle references to `RenderObjects` via their unique `object._id`. The passed function is then added as a callback to the slider control on the pyodide side. Getting the pyodide version of the render object as an input.\n",
    "After each callback a scene.redraw is called automatically."
   ]
  },
  {
   "cell_type": "code",
   "execution_count": null,
   "id": "ad3f18e4-eedc-4e3f-b805-7bcdd30ac53d",
   "metadata": {},
   "outputs": [],
   "source": [
    "scene = wj.Draw([trigs, vrender])\n",
    "\n",
    "\n",
    "def change_size(vr, size):\n",
    "    vr.vec_uniforms.size = size\n",
    "    vr.vec_uniforms.update_buffer()\n",
    "\n",
    "\n",
    "scene.gui.slider(\n",
    "    value=0.2, func=change_size, objects=vrender, min=0.0, max=1.0, label=\"Size\"\n",
    ")"
   ]
  },
  {
   "cell_type": "code",
   "execution_count": null,
   "id": "c04297c4-d69d-4a9d-829c-e5b742b43c4f",
   "metadata": {},
   "outputs": [],
   "source": []
  }
 ],
 "metadata": {
  "kernelspec": {
   "display_name": "Python 3 (ipykernel)",
   "language": "python",
   "name": "python3"
  },
  "language_info": {
   "codemirror_mode": {
    "name": "ipython",
    "version": 3
   },
   "file_extension": ".py",
   "mimetype": "text/x-python",
   "name": "python",
   "nbconvert_exporter": "python",
   "pygments_lexer": "ipython3",
   "version": "3.13.1"
  }
 },
 "nbformat": 4,
 "nbformat_minor": 5
}
