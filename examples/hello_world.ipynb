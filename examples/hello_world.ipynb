{
 "cells": [
  {
   "cell_type": "markdown",
   "id": "47ea5096-89f7-40e7-8538-73ee285f3309",
   "metadata": {},
   "source": [
    "## Hello world\n",
    "\n",
    "The code below draws a (hard-coded) triangle to the screen and contains the bare minimum to draw something with custom WebGPU shaders.\n",
    "\n",
    "Importing webgpu.jupyter starts a pyodide kernel running alongside the notebook with access to rendering into html elements."
   ]
  },
  {
   "cell_type": "code",
   "execution_count": null,
   "id": "26b9fc2d-97ac-467d-84bc-b3707543d67b",
   "metadata": {},
   "outputs": [],
   "source": [
    "import webgpu.jupyter as wj"
   ]
  },
  {
   "cell_type": "markdown",
   "id": "40a55106-03ff-441c-bdb6-9ea86739a35a",
   "metadata": {},
   "source": [
    "The render object must be defined on the kernel side and pyodide side. For this we provide jupyter cell magic"
   ]
  },
  {
   "cell_type": "code",
   "execution_count": null,
   "id": "33cf4c43-4640-453b-9227-79c99d4b4b23",
   "metadata": {},
   "outputs": [],
   "source": [
    "%%pyodide_and_kernel\n",
    "\n",
    "from webgpu import RenderObject\n",
    "\n",
    "shader_code = \"\"\"\n",
    "\n",
    "// Data structure which is the output of the vertex shader and the input of the fragment shader\n",
    "struct FragmentInput {\n",
    "    @builtin(position) p: vec4<f32>,\n",
    "    @location(0) color: vec4<f32>,\n",
    "};\n",
    "\n",
    "// Vertex shader, returns a FragmentInput object\n",
    "@vertex\n",
    "fn vertex_main(\n",
    "  @builtin(vertex_index) vertex_index : u32\n",
    ") -> FragmentInput {\n",
    "\n",
    "  var pos = array<vec4f, 3>(\n",
    "    vec4f( 0.0,  0.5, 0., 1.),\n",
    "    vec4f(-0.5, -0.5, 0., 1.),\n",
    "    vec4f( 0.5, -0.5, 0., 1.)\n",
    "  );\n",
    "\n",
    "  var color = array<vec4f, 3>(\n",
    "    vec4f(1., 0., 0., 1.),\n",
    "    vec4f(0., 1., 0., 1.),\n",
    "    vec4f(0., 0., 1., 1.)\n",
    "  );\n",
    "  \n",
    "  return FragmentInput( pos[vertex_index], color[vertex_index] );\n",
    "}\n",
    "\n",
    "@fragment\n",
    "fn fragment_main(input: FragmentInput) -> @location(0) vec4f {\n",
    "  return input.color;\n",
    "}\n",
    "\"\"\"\n",
    "\n",
    "class Triangle(RenderObject):\n",
    "    def __init__(self, *args, **kwargs):\n",
    "        super().__init__(*args, **kwargs)\n",
    "        self.shader_code = shader_code\n",
    "        self.n_vertices = 3\n",
    "\n",
    "    def get_shader_code(self):\n",
    "        return shader_code\n",
    "\n",
    "    def get_bindings(self):\n",
    "        return []"
   ]
  },
  {
   "cell_type": "markdown",
   "id": "ffe09b94-7479-4aee-8d17-70c24ef8bf26",
   "metadata": {},
   "source": [
    "Now you can create the object on the kernel side, fill it with data and send it with the draw command to pyodide to be rendered"
   ]
  },
  {
   "cell_type": "code",
   "execution_count": null,
   "id": "6211eb6e-6825-4819-b9b1-626035a01b55",
   "metadata": {},
   "outputs": [],
   "source": [
    "triangle = Triangle()\n",
    "wj.Draw(triangle)"
   ]
  },
  {
   "cell_type": "code",
   "execution_count": null,
   "id": "9426379d-0a85-46c4-9a96-8808b5fe5682",
   "metadata": {},
   "outputs": [],
   "source": []
  }
 ],
 "metadata": {
  "kernelspec": {
   "display_name": "Python 3 (ipykernel)",
   "language": "python",
   "name": "python3"
  },
  "language_info": {
   "codemirror_mode": {
    "name": "ipython",
    "version": 3
   },
   "file_extension": ".py",
   "mimetype": "text/x-python",
   "name": "python",
   "nbconvert_exporter": "python",
   "pygments_lexer": "ipython3",
   "version": "3.13.1"
  }
 },
 "nbformat": 4,
 "nbformat_minor": 5
}
